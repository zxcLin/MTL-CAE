{
 "cells": [
  {
   "cell_type": "code",
   "execution_count": 1,
   "metadata": {},
   "outputs": [],
   "source": [
    "import sys\n",
    "import datetime\n",
    "import numpy as np\n",
    "import nibabel as nib\n",
    "import warnings\n",
    "import ants\n",
    "import matplotlib.pyplot as plt\n",
    "\n",
    "from sklearn.metrics import confusion_matrix\n",
    "from sklearn.metrics import roc_auc_score as auc\n",
    "from sklearn.metrics import roc_curve as roc\n",
    "\n",
    "# Global settings\n",
    "#os.environ[\"CUDA_VISIBLE_DEVICES\"] = \"0,1\"\n",
    "DEBUG=True\n",
    "np.set_printoptions(threshold=sys.maxsize)\n",
    "warnings.filterwarnings('ignore', category=UserWarning)\n",
    "%autosave 60\n",
    "%matplotlib inline"
   ]
  },
  {
   "cell_type": "code",
   "execution_count": null,
   "metadata": {},
   "outputs": [],
   "source": [
    "class Record():\n",
    "    \n",
    "    ''' A record of an epoch '''\n",
    "    \n",
    "    def __init__(self):\n",
    "        self.tar = np.array([]).astype(int)\n",
    "        self.out = np.array([]).astype(np.float32)\n",
    "        self.lss = np.array([]).astype(np.float32)\n",
    "    \n",
    "    def append(self, tar, out, lss):\n",
    "        self.tar = np.append(self.tar, tar)\n",
    "        self.out = np.append(self.out, out)\n",
    "        self.lss = np.append(self.lss, lss)\n",
    "            \n",
    "    def calculate(self, threshold=None):\n",
    "        if threshold is None:\n",
    "            # get the best threshold\n",
    "            fpr, tpr, thresholds = roc(self.tar, self.out)\n",
    "            threshold = thresholds[np.argmax(tpr - fpr)]\n",
    "        pred = np.where(self.out>=threshold, 1, 0)\n",
    "        (self.tn, self.fp, self.fn, self.tp) = confusion_matrix(self.tar, pred, labels=[0,1]).ravel()\n",
    "        return threshold\n",
    "    \n",
    "    def result(self):\n",
    "        return np.array([self.loss(), self.acc()*100, self.sen()*100, self.spe()*100, self.auc()*100])\n",
    "        \n",
    "    def loss(self):\n",
    "        return np.nanmean(self.lss)\n",
    "    \n",
    "    def acc(self):\n",
    "        return (self.tp+self.tn)/(self.tp+self.tn+self.fp+self.fn)\n",
    "    \n",
    "    def sen(self):\n",
    "        return (self.tp)/(self.tp+self.fn)\n",
    "    \n",
    "    def spe(self):\n",
    "        return (self.tn)/(self.tn+self.fp)\n",
    "    \n",
    "    def auc(self):\n",
    "        return auc(self.tar, self.out, labels=[0,1])"
   ]
  },
  {
   "cell_type": "code",
   "execution_count": 1,
   "metadata": {},
   "outputs": [],
   "source": [
    "def time(tag='', date=False, end='\\n'):\n",
    "    format = '%Y-%m-%d %H:%M:%S' if date else '%H:%M:%S'\n",
    "    print(datetime.datetime.now().strftime(format), tag, end=end)"
   ]
  },
  {
   "cell_type": "code",
   "execution_count": null,
   "metadata": {},
   "outputs": [],
   "source": [
    "def debug(s=''):\n",
    "    if DEBUG:\n",
    "        print(s)"
   ]
  },
  {
   "cell_type": "code",
   "execution_count": null,
   "metadata": {},
   "outputs": [],
   "source": [
    "def showMRI(img):\n",
    "    plt.figure()\n",
    "    plt.imshow(img[0,:,48,:], cmap=\"gray\", vmax=img.max(), vmin=0)"
   ]
  },
  {
   "cell_type": "code",
   "execution_count": null,
   "metadata": {},
   "outputs": [],
   "source": [
    "def showMRIs(imgs):\n",
    "    n = min(len(imgs), 6)\n",
    "    plt.figure(figsize=(20,2*(n+(n-1))//n))\n",
    "    for i, img in zip(range(n), imgs):\n",
    "        img = img[0,:,48,:]\n",
    "        plt.subplot((n+(n-1))//n, n, i+1)\n",
    "        plt.axis('off')\n",
    "        #plt.hist(img.reshape(img.shape[0]*img.shape[1]), bins = range(0,1000,10))\n",
    "        plt.imshow(img, cmap=\"gray\", vmax=img.max())\n",
    "    plt.show()"
   ]
  },
  {
   "cell_type": "code",
   "execution_count": null,
   "metadata": {},
   "outputs": [],
   "source": [
    "def nii2img(nii):\n",
    "    img = ants.image_read(nii)\n",
    "    img = img.numpy().astype(np.float32)\n",
    "    #img = nib.load(nii)\n",
    "    #img = img.get_fdata()\n",
    "    return img"
   ]
  }
 ],
 "metadata": {
  "kernelspec": {
   "display_name": "Python 3",
   "language": "python",
   "name": "python3"
  },
  "language_info": {
   "codemirror_mode": {
    "name": "ipython",
    "version": 3
   },
   "file_extension": ".py",
   "mimetype": "text/x-python",
   "name": "python",
   "nbconvert_exporter": "python",
   "pygments_lexer": "ipython3",
   "version": "3.7.10"
  }
 },
 "nbformat": 4,
 "nbformat_minor": 4
}
